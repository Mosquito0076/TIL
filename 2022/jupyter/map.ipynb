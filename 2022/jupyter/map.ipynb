{
 "cells": [
  {
   "cell_type": "code",
   "execution_count": 1,
   "id": "103d0e19",
   "metadata": {},
   "outputs": [
    {
     "name": "stdout",
     "output_type": "stream",
     "text": [
      "123\n"
     ]
    }
   ],
   "source": [
    "input_value = input()"
   ]
  },
  {
   "cell_type": "code",
   "execution_count": 2,
   "id": "64e4e8b5",
   "metadata": {},
   "outputs": [
    {
     "data": {
      "text/plain": [
       "str"
      ]
     },
     "execution_count": 2,
     "metadata": {},
     "output_type": "execute_result"
    }
   ],
   "source": [
    "type(input_value)"
   ]
  },
  {
   "cell_type": "markdown",
   "id": "26cf6e2c",
   "metadata": {},
   "source": [
    "## 알고리즘 예시\n",
    "\n",
    "* `n X m` 행렬 \n",
    "\n",
    "20 20"
   ]
  },
  {
   "cell_type": "code",
   "execution_count": 3,
   "id": "7b406e86",
   "metadata": {},
   "outputs": [
    {
     "name": "stdout",
     "output_type": "stream",
     "text": [
      "20 20\n"
     ]
    }
   ],
   "source": [
    "input_value = input()"
   ]
  },
  {
   "cell_type": "code",
   "execution_count": 4,
   "id": "7df803d6",
   "metadata": {},
   "outputs": [
    {
     "data": {
      "text/plain": [
       "'20 20'"
      ]
     },
     "execution_count": 4,
     "metadata": {},
     "output_type": "execute_result"
    }
   ],
   "source": [
    "input_value"
   ]
  },
  {
   "cell_type": "code",
   "execution_count": 5,
   "id": "3c4fe3e5",
   "metadata": {},
   "outputs": [],
   "source": [
    "# 20 20 으로 들어온 것을 n, m으로 나눠서 저장"
   ]
  },
  {
   "cell_type": "code",
   "execution_count": 8,
   "id": "3186954a",
   "metadata": {},
   "outputs": [
    {
     "name": "stdout",
     "output_type": "stream",
     "text": [
      "['20', '20']\n"
     ]
    }
   ],
   "source": [
    "numbers = input_value.split()\n",
    "print(numbers)"
   ]
  },
  {
   "cell_type": "code",
   "execution_count": 9,
   "id": "0d78adf0",
   "metadata": {},
   "outputs": [
    {
     "name": "stdout",
     "output_type": "stream",
     "text": [
      "[20, 20]\n"
     ]
    }
   ],
   "source": [
    "result = []\n",
    "for number in numbers:\n",
    "    result.append(int(number))\n",
    "print(result)"
   ]
  },
  {
   "cell_type": "code",
   "execution_count": 10,
   "id": "9b411924",
   "metadata": {},
   "outputs": [],
   "source": [
    "n, m = result"
   ]
  },
  {
   "cell_type": "code",
   "execution_count": 12,
   "id": "38c6526a",
   "metadata": {},
   "outputs": [
    {
     "name": "stdout",
     "output_type": "stream",
     "text": [
      "20 20\n"
     ]
    }
   ],
   "source": [
    "print(n, m)"
   ]
  },
  {
   "cell_type": "markdown",
   "id": "5d061e66",
   "metadata": {},
   "source": [
    "## map 적용"
   ]
  },
  {
   "cell_type": "code",
   "execution_count": 13,
   "id": "05407e13",
   "metadata": {},
   "outputs": [
    {
     "name": "stdout",
     "output_type": "stream",
     "text": [
      "10 10\n"
     ]
    }
   ],
   "source": [
    "a = input().split()"
   ]
  },
  {
   "cell_type": "code",
   "execution_count": 15,
   "id": "a6f22c6c",
   "metadata": {},
   "outputs": [
    {
     "data": {
      "text/plain": [
       "<map at 0x197e694c310>"
      ]
     },
     "execution_count": 15,
     "metadata": {},
     "output_type": "execute_result"
    }
   ],
   "source": [
    "map(int, a)"
   ]
  },
  {
   "cell_type": "code",
   "execution_count": 16,
   "id": "83156119",
   "metadata": {},
   "outputs": [
    {
     "data": {
      "text/plain": [
       "[10, 10]"
      ]
     },
     "execution_count": 16,
     "metadata": {},
     "output_type": "execute_result"
    }
   ],
   "source": [
    "list(map(int, a))"
   ]
  },
  {
   "cell_type": "code",
   "execution_count": 19,
   "id": "0210be49",
   "metadata": {},
   "outputs": [
    {
     "name": "stdout",
     "output_type": "stream",
     "text": [
      "20 20\n",
      "20 20 <class 'int'> <class 'int'>\n"
     ]
    }
   ],
   "source": [
    "# 최종 코드\n",
    "n, m = map(int, input().split())\n",
    "print(n, m, type(n), type(m))"
   ]
  }
 ],
 "metadata": {
  "kernelspec": {
   "display_name": "Python 3 (ipykernel)",
   "language": "python",
   "name": "python3"
  },
  "language_info": {
   "codemirror_mode": {
    "name": "ipython",
    "version": 3
   },
   "file_extension": ".py",
   "mimetype": "text/x-python",
   "name": "python",
   "nbconvert_exporter": "python",
   "pygments_lexer": "ipython3",
   "version": "3.9.9"
  }
 },
 "nbformat": 4,
 "nbformat_minor": 5
}
