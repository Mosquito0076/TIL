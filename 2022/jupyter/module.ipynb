{
 "cells": [
  {
   "cell_type": "code",
   "execution_count": null,
   "id": "71f36f3b",
   "metadata": {},
   "outputs": [],
   "source": [
    "import check"
   ]
  },
  {
   "cell_type": "code",
   "execution_count": null,
   "id": "f7774952",
   "metadata": {},
   "outputs": [],
   "source": [
    "check.NAME"
   ]
  },
  {
   "cell_type": "code",
   "execution_count": null,
   "id": "530140bc",
   "metadata": {},
   "outputs": [],
   "source": [
    "check.odd(2)"
   ]
  },
  {
   "cell_type": "code",
   "execution_count": null,
   "id": "19464d9b",
   "metadata": {},
   "outputs": [],
   "source": [
    "from check import NAME"
   ]
  },
  {
   "cell_type": "code",
   "execution_count": null,
   "id": "577b820e",
   "metadata": {},
   "outputs": [],
   "source": [
    "NAME"
   ]
  },
  {
   "cell_type": "code",
   "execution_count": 1,
   "id": "0972543a",
   "metadata": {},
   "outputs": [],
   "source": [
    "# 위에 실행 내역 지우고 확인해보기\n",
    "from check import *"
   ]
  },
  {
   "cell_type": "code",
   "execution_count": 2,
   "id": "381fea13",
   "metadata": {},
   "outputs": [
    {
     "data": {
      "text/plain": [
       "'SSAFY'"
      ]
     },
     "execution_count": 2,
     "metadata": {},
     "output_type": "execute_result"
    }
   ],
   "source": [
    "NAME"
   ]
  },
  {
   "cell_type": "code",
   "execution_count": 4,
   "id": "6beedf5f",
   "metadata": {},
   "outputs": [
    {
     "data": {
      "text/plain": [
       "True"
      ]
     },
     "execution_count": 4,
     "metadata": {},
     "output_type": "execute_result"
    }
   ],
   "source": [
    "odd(1)"
   ]
  },
  {
   "cell_type": "code",
   "execution_count": 5,
   "id": "f8dab82d",
   "metadata": {},
   "outputs": [
    {
     "data": {
      "text/plain": [
       "True"
      ]
     },
     "execution_count": 5,
     "metadata": {},
     "output_type": "execute_result"
    }
   ],
   "source": [
    "even(2)"
   ]
  }
 ],
 "metadata": {
  "kernelspec": {
   "display_name": "Python 3 (ipykernel)",
   "language": "python",
   "name": "python3"
  },
  "language_info": {
   "codemirror_mode": {
    "name": "ipython",
    "version": 3
   },
   "file_extension": ".py",
   "mimetype": "text/x-python",
   "name": "python",
   "nbconvert_exporter": "python",
   "pygments_lexer": "ipython3",
   "version": "3.9.9"
  }
 },
 "nbformat": 4,
 "nbformat_minor": 5
}
